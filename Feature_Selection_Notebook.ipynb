{
 "cells": [
  {
   "cell_type": "code",
   "execution_count": 2,
   "metadata": {
    "id": "UBrVOm6EzMC8"
   },
   "outputs": [
    {
     "data": {
      "text/plain": [
       "['.ipynb_checkpoints',\n",
       " 'de.py',\n",
       " 'fpa.py',\n",
       " 'functionHO.py',\n",
       " 'pso.py',\n",
       " 'sca.py',\n",
       " '__pycache__']"
      ]
     },
     "execution_count": 2,
     "metadata": {},
     "output_type": "execute_result"
    }
   ],
   "source": [
    "#title dir-change\n",
    "import os\n",
    "folder_path = \"MH_Algorithms\"\n",
    "os.chdir(folder_path)\n",
    "os.listdir()"
   ]
  },
  {
   "cell_type": "code",
   "execution_count": 3,
   "metadata": {
    "id": "E9AyjP-xz8EP"
   },
   "outputs": [],
   "source": [
    "#necessary imports\n",
    "import numpy as np\n",
    "import pandas as pd\n",
    "from sklearn.model_selection import train_test_split\n",
    "import matplotlib.pyplot as plt\n",
    "from sklearn.preprocessing import LabelEncoder\n",
    "from sklearn import preprocessing"
   ]
  },
  {
   "cell_type": "code",
   "execution_count": 24,
   "metadata": {
    "id": "9CYI8aPWpOaZ"
   },
   "outputs": [
    {
     "data": {
      "text/html": [
       "<div>\n",
       "<style scoped>\n",
       "    .dataframe tbody tr th:only-of-type {\n",
       "        vertical-align: middle;\n",
       "    }\n",
       "\n",
       "    .dataframe tbody tr th {\n",
       "        vertical-align: top;\n",
       "    }\n",
       "\n",
       "    .dataframe thead th {\n",
       "        text-align: right;\n",
       "    }\n",
       "</style>\n",
       "<table border=\"1\" class=\"dataframe\">\n",
       "  <thead>\n",
       "    <tr style=\"text-align: right;\">\n",
       "      <th></th>\n",
       "      <th>id</th>\n",
       "      <th>dur</th>\n",
       "      <th>proto</th>\n",
       "      <th>service</th>\n",
       "      <th>state</th>\n",
       "      <th>spkts</th>\n",
       "      <th>dpkts</th>\n",
       "      <th>sbytes</th>\n",
       "      <th>dbytes</th>\n",
       "      <th>rate</th>\n",
       "      <th>...</th>\n",
       "      <th>ct_dst_sport_ltm</th>\n",
       "      <th>ct_dst_src_ltm</th>\n",
       "      <th>is_ftp_login</th>\n",
       "      <th>ct_ftp_cmd</th>\n",
       "      <th>ct_flw_http_mthd</th>\n",
       "      <th>ct_src_ltm</th>\n",
       "      <th>ct_srv_dst</th>\n",
       "      <th>is_sm_ips_ports</th>\n",
       "      <th>attack_cat</th>\n",
       "      <th>label</th>\n",
       "    </tr>\n",
       "  </thead>\n",
       "  <tbody>\n",
       "    <tr>\n",
       "      <th>0</th>\n",
       "      <td>1</td>\n",
       "      <td>0.121478</td>\n",
       "      <td>tcp</td>\n",
       "      <td>-</td>\n",
       "      <td>FIN</td>\n",
       "      <td>6</td>\n",
       "      <td>4</td>\n",
       "      <td>258</td>\n",
       "      <td>172</td>\n",
       "      <td>74.087490</td>\n",
       "      <td>...</td>\n",
       "      <td>1</td>\n",
       "      <td>1</td>\n",
       "      <td>0</td>\n",
       "      <td>0</td>\n",
       "      <td>0</td>\n",
       "      <td>1</td>\n",
       "      <td>1</td>\n",
       "      <td>0</td>\n",
       "      <td>Normal</td>\n",
       "      <td>0</td>\n",
       "    </tr>\n",
       "    <tr>\n",
       "      <th>1</th>\n",
       "      <td>2</td>\n",
       "      <td>0.649902</td>\n",
       "      <td>tcp</td>\n",
       "      <td>-</td>\n",
       "      <td>FIN</td>\n",
       "      <td>14</td>\n",
       "      <td>38</td>\n",
       "      <td>734</td>\n",
       "      <td>42014</td>\n",
       "      <td>78.473372</td>\n",
       "      <td>...</td>\n",
       "      <td>1</td>\n",
       "      <td>2</td>\n",
       "      <td>0</td>\n",
       "      <td>0</td>\n",
       "      <td>0</td>\n",
       "      <td>1</td>\n",
       "      <td>6</td>\n",
       "      <td>0</td>\n",
       "      <td>Normal</td>\n",
       "      <td>0</td>\n",
       "    </tr>\n",
       "    <tr>\n",
       "      <th>2</th>\n",
       "      <td>3</td>\n",
       "      <td>1.623129</td>\n",
       "      <td>tcp</td>\n",
       "      <td>-</td>\n",
       "      <td>FIN</td>\n",
       "      <td>8</td>\n",
       "      <td>16</td>\n",
       "      <td>364</td>\n",
       "      <td>13186</td>\n",
       "      <td>14.170161</td>\n",
       "      <td>...</td>\n",
       "      <td>1</td>\n",
       "      <td>3</td>\n",
       "      <td>0</td>\n",
       "      <td>0</td>\n",
       "      <td>0</td>\n",
       "      <td>2</td>\n",
       "      <td>6</td>\n",
       "      <td>0</td>\n",
       "      <td>Normal</td>\n",
       "      <td>0</td>\n",
       "    </tr>\n",
       "    <tr>\n",
       "      <th>3</th>\n",
       "      <td>4</td>\n",
       "      <td>1.681642</td>\n",
       "      <td>tcp</td>\n",
       "      <td>ftp</td>\n",
       "      <td>FIN</td>\n",
       "      <td>12</td>\n",
       "      <td>12</td>\n",
       "      <td>628</td>\n",
       "      <td>770</td>\n",
       "      <td>13.677108</td>\n",
       "      <td>...</td>\n",
       "      <td>1</td>\n",
       "      <td>3</td>\n",
       "      <td>1</td>\n",
       "      <td>1</td>\n",
       "      <td>0</td>\n",
       "      <td>2</td>\n",
       "      <td>1</td>\n",
       "      <td>0</td>\n",
       "      <td>Normal</td>\n",
       "      <td>0</td>\n",
       "    </tr>\n",
       "    <tr>\n",
       "      <th>4</th>\n",
       "      <td>5</td>\n",
       "      <td>0.449454</td>\n",
       "      <td>tcp</td>\n",
       "      <td>-</td>\n",
       "      <td>FIN</td>\n",
       "      <td>10</td>\n",
       "      <td>6</td>\n",
       "      <td>534</td>\n",
       "      <td>268</td>\n",
       "      <td>33.373826</td>\n",
       "      <td>...</td>\n",
       "      <td>1</td>\n",
       "      <td>40</td>\n",
       "      <td>0</td>\n",
       "      <td>0</td>\n",
       "      <td>0</td>\n",
       "      <td>2</td>\n",
       "      <td>39</td>\n",
       "      <td>0</td>\n",
       "      <td>Normal</td>\n",
       "      <td>0</td>\n",
       "    </tr>\n",
       "  </tbody>\n",
       "</table>\n",
       "<p>5 rows × 45 columns</p>\n",
       "</div>"
      ],
      "text/plain": [
       "   id       dur proto service state  spkts  dpkts  sbytes  dbytes       rate  \\\n",
       "0   1  0.121478   tcp       -   FIN      6      4     258     172  74.087490   \n",
       "1   2  0.649902   tcp       -   FIN     14     38     734   42014  78.473372   \n",
       "2   3  1.623129   tcp       -   FIN      8     16     364   13186  14.170161   \n",
       "3   4  1.681642   tcp     ftp   FIN     12     12     628     770  13.677108   \n",
       "4   5  0.449454   tcp       -   FIN     10      6     534     268  33.373826   \n",
       "\n",
       "   ...  ct_dst_sport_ltm  ct_dst_src_ltm  is_ftp_login  ct_ftp_cmd  \\\n",
       "0  ...                 1               1             0           0   \n",
       "1  ...                 1               2             0           0   \n",
       "2  ...                 1               3             0           0   \n",
       "3  ...                 1               3             1           1   \n",
       "4  ...                 1              40             0           0   \n",
       "\n",
       "   ct_flw_http_mthd  ct_src_ltm  ct_srv_dst  is_sm_ips_ports  attack_cat  \\\n",
       "0                 0           1           1                0      Normal   \n",
       "1                 0           1           6                0      Normal   \n",
       "2                 0           2           6                0      Normal   \n",
       "3                 0           2           1                0      Normal   \n",
       "4                 0           2          39                0      Normal   \n",
       "\n",
       "   label  \n",
       "0      0  \n",
       "1      0  \n",
       "2      0  \n",
       "3      0  \n",
       "4      0  \n",
       "\n",
       "[5 rows x 45 columns]"
      ]
     },
     "execution_count": 24,
     "metadata": {},
     "output_type": "execute_result"
    }
   ],
   "source": [
    "#load training data:: UNSW_NB15_training-set.csv\n",
    "data_read = pd.read_csv('../datasets/UNSW_NB15_training-set.csv')\n",
    "\n",
    "data_read.head()"
   ]
  },
  {
   "cell_type": "code",
   "execution_count": 26,
   "metadata": {},
   "outputs": [
    {
     "data": {
      "text/html": [
       "<div>\n",
       "<style scoped>\n",
       "    .dataframe tbody tr th:only-of-type {\n",
       "        vertical-align: middle;\n",
       "    }\n",
       "\n",
       "    .dataframe tbody tr th {\n",
       "        vertical-align: top;\n",
       "    }\n",
       "\n",
       "    .dataframe thead th {\n",
       "        text-align: right;\n",
       "    }\n",
       "</style>\n",
       "<table border=\"1\" class=\"dataframe\">\n",
       "  <thead>\n",
       "    <tr style=\"text-align: right;\">\n",
       "      <th></th>\n",
       "      <th>dur</th>\n",
       "      <th>spkts</th>\n",
       "      <th>dpkts</th>\n",
       "      <th>sbytes</th>\n",
       "      <th>dbytes</th>\n",
       "      <th>rate</th>\n",
       "      <th>sttl</th>\n",
       "      <th>dttl</th>\n",
       "      <th>sload</th>\n",
       "      <th>dload</th>\n",
       "      <th>...</th>\n",
       "      <th>is_ftp_login</th>\n",
       "      <th>ct_ftp_cmd</th>\n",
       "      <th>ct_flw_http_mthd</th>\n",
       "      <th>ct_src_ltm</th>\n",
       "      <th>ct_srv_dst</th>\n",
       "      <th>is_sm_ips_ports</th>\n",
       "      <th>proto</th>\n",
       "      <th>state</th>\n",
       "      <th>service</th>\n",
       "      <th>attack_cat</th>\n",
       "    </tr>\n",
       "  </thead>\n",
       "  <tbody>\n",
       "    <tr>\n",
       "      <th>0</th>\n",
       "      <td>0.121478</td>\n",
       "      <td>6</td>\n",
       "      <td>4</td>\n",
       "      <td>258</td>\n",
       "      <td>172</td>\n",
       "      <td>74.087490</td>\n",
       "      <td>252</td>\n",
       "      <td>254</td>\n",
       "      <td>14158.942380</td>\n",
       "      <td>8495.365234</td>\n",
       "      <td>...</td>\n",
       "      <td>0</td>\n",
       "      <td>0</td>\n",
       "      <td>0</td>\n",
       "      <td>1</td>\n",
       "      <td>1</td>\n",
       "      <td>0</td>\n",
       "      <td>113</td>\n",
       "      <td>2</td>\n",
       "      <td>0</td>\n",
       "      <td>6</td>\n",
       "    </tr>\n",
       "    <tr>\n",
       "      <th>1</th>\n",
       "      <td>0.649902</td>\n",
       "      <td>14</td>\n",
       "      <td>38</td>\n",
       "      <td>734</td>\n",
       "      <td>42014</td>\n",
       "      <td>78.473372</td>\n",
       "      <td>62</td>\n",
       "      <td>252</td>\n",
       "      <td>8395.112305</td>\n",
       "      <td>503571.312500</td>\n",
       "      <td>...</td>\n",
       "      <td>0</td>\n",
       "      <td>0</td>\n",
       "      <td>0</td>\n",
       "      <td>1</td>\n",
       "      <td>6</td>\n",
       "      <td>0</td>\n",
       "      <td>113</td>\n",
       "      <td>2</td>\n",
       "      <td>0</td>\n",
       "      <td>6</td>\n",
       "    </tr>\n",
       "    <tr>\n",
       "      <th>2</th>\n",
       "      <td>1.623129</td>\n",
       "      <td>8</td>\n",
       "      <td>16</td>\n",
       "      <td>364</td>\n",
       "      <td>13186</td>\n",
       "      <td>14.170161</td>\n",
       "      <td>62</td>\n",
       "      <td>252</td>\n",
       "      <td>1572.271851</td>\n",
       "      <td>60929.230470</td>\n",
       "      <td>...</td>\n",
       "      <td>0</td>\n",
       "      <td>0</td>\n",
       "      <td>0</td>\n",
       "      <td>2</td>\n",
       "      <td>6</td>\n",
       "      <td>0</td>\n",
       "      <td>113</td>\n",
       "      <td>2</td>\n",
       "      <td>0</td>\n",
       "      <td>6</td>\n",
       "    </tr>\n",
       "    <tr>\n",
       "      <th>3</th>\n",
       "      <td>1.681642</td>\n",
       "      <td>12</td>\n",
       "      <td>12</td>\n",
       "      <td>628</td>\n",
       "      <td>770</td>\n",
       "      <td>13.677108</td>\n",
       "      <td>62</td>\n",
       "      <td>252</td>\n",
       "      <td>2740.178955</td>\n",
       "      <td>3358.622070</td>\n",
       "      <td>...</td>\n",
       "      <td>1</td>\n",
       "      <td>1</td>\n",
       "      <td>0</td>\n",
       "      <td>2</td>\n",
       "      <td>1</td>\n",
       "      <td>0</td>\n",
       "      <td>113</td>\n",
       "      <td>2</td>\n",
       "      <td>3</td>\n",
       "      <td>6</td>\n",
       "    </tr>\n",
       "    <tr>\n",
       "      <th>4</th>\n",
       "      <td>0.449454</td>\n",
       "      <td>10</td>\n",
       "      <td>6</td>\n",
       "      <td>534</td>\n",
       "      <td>268</td>\n",
       "      <td>33.373826</td>\n",
       "      <td>254</td>\n",
       "      <td>252</td>\n",
       "      <td>8561.499023</td>\n",
       "      <td>3987.059814</td>\n",
       "      <td>...</td>\n",
       "      <td>0</td>\n",
       "      <td>0</td>\n",
       "      <td>0</td>\n",
       "      <td>2</td>\n",
       "      <td>39</td>\n",
       "      <td>0</td>\n",
       "      <td>113</td>\n",
       "      <td>2</td>\n",
       "      <td>0</td>\n",
       "      <td>6</td>\n",
       "    </tr>\n",
       "    <tr>\n",
       "      <th>5</th>\n",
       "      <td>0.380537</td>\n",
       "      <td>10</td>\n",
       "      <td>6</td>\n",
       "      <td>534</td>\n",
       "      <td>268</td>\n",
       "      <td>39.417980</td>\n",
       "      <td>254</td>\n",
       "      <td>252</td>\n",
       "      <td>10112.025390</td>\n",
       "      <td>4709.134766</td>\n",
       "      <td>...</td>\n",
       "      <td>0</td>\n",
       "      <td>0</td>\n",
       "      <td>0</td>\n",
       "      <td>2</td>\n",
       "      <td>39</td>\n",
       "      <td>0</td>\n",
       "      <td>113</td>\n",
       "      <td>2</td>\n",
       "      <td>0</td>\n",
       "      <td>6</td>\n",
       "    </tr>\n",
       "    <tr>\n",
       "      <th>6</th>\n",
       "      <td>0.637109</td>\n",
       "      <td>10</td>\n",
       "      <td>8</td>\n",
       "      <td>534</td>\n",
       "      <td>354</td>\n",
       "      <td>26.683033</td>\n",
       "      <td>254</td>\n",
       "      <td>252</td>\n",
       "      <td>6039.783203</td>\n",
       "      <td>3892.583740</td>\n",
       "      <td>...</td>\n",
       "      <td>0</td>\n",
       "      <td>0</td>\n",
       "      <td>0</td>\n",
       "      <td>1</td>\n",
       "      <td>39</td>\n",
       "      <td>0</td>\n",
       "      <td>113</td>\n",
       "      <td>2</td>\n",
       "      <td>0</td>\n",
       "      <td>6</td>\n",
       "    </tr>\n",
       "    <tr>\n",
       "      <th>7</th>\n",
       "      <td>0.521584</td>\n",
       "      <td>10</td>\n",
       "      <td>8</td>\n",
       "      <td>534</td>\n",
       "      <td>354</td>\n",
       "      <td>32.593026</td>\n",
       "      <td>254</td>\n",
       "      <td>252</td>\n",
       "      <td>7377.527344</td>\n",
       "      <td>4754.747070</td>\n",
       "      <td>...</td>\n",
       "      <td>0</td>\n",
       "      <td>0</td>\n",
       "      <td>0</td>\n",
       "      <td>3</td>\n",
       "      <td>39</td>\n",
       "      <td>0</td>\n",
       "      <td>113</td>\n",
       "      <td>2</td>\n",
       "      <td>0</td>\n",
       "      <td>6</td>\n",
       "    </tr>\n",
       "    <tr>\n",
       "      <th>8</th>\n",
       "      <td>0.542905</td>\n",
       "      <td>10</td>\n",
       "      <td>8</td>\n",
       "      <td>534</td>\n",
       "      <td>354</td>\n",
       "      <td>31.313031</td>\n",
       "      <td>254</td>\n",
       "      <td>252</td>\n",
       "      <td>7087.796387</td>\n",
       "      <td>4568.018555</td>\n",
       "      <td>...</td>\n",
       "      <td>0</td>\n",
       "      <td>0</td>\n",
       "      <td>0</td>\n",
       "      <td>3</td>\n",
       "      <td>39</td>\n",
       "      <td>0</td>\n",
       "      <td>113</td>\n",
       "      <td>2</td>\n",
       "      <td>0</td>\n",
       "      <td>6</td>\n",
       "    </tr>\n",
       "    <tr>\n",
       "      <th>9</th>\n",
       "      <td>0.258687</td>\n",
       "      <td>10</td>\n",
       "      <td>6</td>\n",
       "      <td>534</td>\n",
       "      <td>268</td>\n",
       "      <td>57.985135</td>\n",
       "      <td>254</td>\n",
       "      <td>252</td>\n",
       "      <td>14875.120120</td>\n",
       "      <td>6927.291016</td>\n",
       "      <td>...</td>\n",
       "      <td>0</td>\n",
       "      <td>0</td>\n",
       "      <td>0</td>\n",
       "      <td>3</td>\n",
       "      <td>39</td>\n",
       "      <td>0</td>\n",
       "      <td>113</td>\n",
       "      <td>2</td>\n",
       "      <td>0</td>\n",
       "      <td>6</td>\n",
       "    </tr>\n",
       "  </tbody>\n",
       "</table>\n",
       "<p>10 rows × 43 columns</p>\n",
       "</div>"
      ],
      "text/plain": [
       "        dur  spkts  dpkts  sbytes  dbytes       rate  sttl  dttl  \\\n",
       "0  0.121478      6      4     258     172  74.087490   252   254   \n",
       "1  0.649902     14     38     734   42014  78.473372    62   252   \n",
       "2  1.623129      8     16     364   13186  14.170161    62   252   \n",
       "3  1.681642     12     12     628     770  13.677108    62   252   \n",
       "4  0.449454     10      6     534     268  33.373826   254   252   \n",
       "5  0.380537     10      6     534     268  39.417980   254   252   \n",
       "6  0.637109     10      8     534     354  26.683033   254   252   \n",
       "7  0.521584     10      8     534     354  32.593026   254   252   \n",
       "8  0.542905     10      8     534     354  31.313031   254   252   \n",
       "9  0.258687     10      6     534     268  57.985135   254   252   \n",
       "\n",
       "          sload          dload  ...  is_ftp_login  ct_ftp_cmd  \\\n",
       "0  14158.942380    8495.365234  ...             0           0   \n",
       "1   8395.112305  503571.312500  ...             0           0   \n",
       "2   1572.271851   60929.230470  ...             0           0   \n",
       "3   2740.178955    3358.622070  ...             1           1   \n",
       "4   8561.499023    3987.059814  ...             0           0   \n",
       "5  10112.025390    4709.134766  ...             0           0   \n",
       "6   6039.783203    3892.583740  ...             0           0   \n",
       "7   7377.527344    4754.747070  ...             0           0   \n",
       "8   7087.796387    4568.018555  ...             0           0   \n",
       "9  14875.120120    6927.291016  ...             0           0   \n",
       "\n",
       "   ct_flw_http_mthd  ct_src_ltm  ct_srv_dst  is_sm_ips_ports  proto  state  \\\n",
       "0                 0           1           1                0    113      2   \n",
       "1                 0           1           6                0    113      2   \n",
       "2                 0           2           6                0    113      2   \n",
       "3                 0           2           1                0    113      2   \n",
       "4                 0           2          39                0    113      2   \n",
       "5                 0           2          39                0    113      2   \n",
       "6                 0           1          39                0    113      2   \n",
       "7                 0           3          39                0    113      2   \n",
       "8                 0           3          39                0    113      2   \n",
       "9                 0           3          39                0    113      2   \n",
       "\n",
       "   service  attack_cat  \n",
       "0        0           6  \n",
       "1        0           6  \n",
       "2        0           6  \n",
       "3        3           6  \n",
       "4        0           6  \n",
       "5        0           6  \n",
       "6        0           6  \n",
       "7        0           6  \n",
       "8        0           6  \n",
       "9        0           6  \n",
       "\n",
       "[10 rows x 43 columns]"
      ]
     },
     "execution_count": 26,
     "metadata": {},
     "output_type": "execute_result"
    }
   ],
   "source": [
    "#drop 'id', 'attack_cat', 'label' columns\n",
    "data_1 = data_read\n",
    "data_1 = data_1.drop(['id',  'label'], axis = 1)\n",
    "\n",
    "#convert 'proto', 'state' and 'service' column values to numeric values\n",
    "le = LabelEncoder()\n",
    "proto = le.fit_transform(data_1['proto'])\n",
    "data_1.drop(\"proto\", axis=1, inplace=True)\n",
    "data_1[\"proto\"] = proto\n",
    "\n",
    "state = le.fit_transform(data_1['state'])\n",
    "data_1.drop(\"state\", axis=1, inplace=True)\n",
    "data_1[\"state\"] = state\n",
    "\n",
    "service = le.fit_transform(data_1['service'])\n",
    "data_1.drop(\"service\", axis=1, inplace=True)\n",
    "data_1[\"service\"] = service\n",
    "\n",
    "attack_cat = le.fit_transform(data_1['attack_cat'])\n",
    "data_1.drop(\"attack_cat\", axis=1, inplace=True)\n",
    "data_1[\"attack_cat\"] = attack_cat\n",
    "\n",
    "data_1.head(10)"
   ]
  },
  {
   "cell_type": "code",
   "execution_count": 27,
   "metadata": {},
   "outputs": [
    {
     "data": {
      "text/plain": [
       "0         6\n",
       "1         6\n",
       "2         6\n",
       "3         6\n",
       "4         6\n",
       "         ..\n",
       "175336    5\n",
       "175337    8\n",
       "175338    5\n",
       "175339    5\n",
       "175340    5\n",
       "Name: attack_cat, Length: 175341, dtype: int32"
      ]
     },
     "execution_count": 27,
     "metadata": {},
     "output_type": "execute_result"
    }
   ],
   "source": [
    "data_1['attack_cat']"
   ]
  },
  {
   "cell_type": "code",
   "execution_count": 6,
   "metadata": {},
   "outputs": [],
   "source": [
    "#take only the values without column names\n",
    "data_1 = data_1.values\n",
    "train_feat = np.asarray(data_1[:, :])\n",
    "\n",
    "#process only labels\n",
    "data_2 = data_read.values\n",
    "train_label = np.asarray(data_2[:, -1])\n",
    "train_label = train_label.astype('int')\n",
    "\n",
    "#perform data normalization\n",
    "scaler = preprocessing.StandardScaler().fit(train_feat)\n",
    "train_minmax_feat = scaler.transform(train_feat)"
   ]
  },
  {
   "cell_type": "markdown",
   "metadata": {
    "id": "5t3xwhLKmwcm"
   },
   "source": [
    "**Test Data Process**"
   ]
  },
  {
   "cell_type": "code",
   "execution_count": 7,
   "metadata": {
    "id": "6DkCEVaSZNLT"
   },
   "outputs": [],
   "source": [
    "#load test data:: UNSW_NB15_testing-set.csv\n",
    "test_data_read = pd.read_csv('../datasets/UNSW_NB15_testing-set.csv')\n",
    "\n",
    "#drop 'id', 'attack_cat', 'label' columns\n",
    "test_data_1 = test_data_read\n",
    "test_data_1 = test_data_1.drop(['id', 'attack_cat', 'label'], axis = 1)\n",
    "\n",
    "#convert 'proto', 'state' and 'service' column values to numeric values\n",
    "test_le = LabelEncoder()\n",
    "proto = test_le.fit_transform(test_data_1['proto'])\n",
    "test_data_1.drop(\"proto\", axis=1, inplace=True)\n",
    "test_data_1[\"proto\"] = proto\n",
    "\n",
    "state = test_le.fit_transform(test_data_1['state'])\n",
    "test_data_1.drop(\"state\", axis=1, inplace=True)\n",
    "test_data_1[\"state\"] = state\n",
    "\n",
    "service = test_le.fit_transform(test_data_1['service'])\n",
    "test_data_1.drop(\"service\", axis=1, inplace=True)\n",
    "test_data_1[\"service\"] = service\n",
    "\n",
    "#take only the values without column names\n",
    "test_data_1 = test_data_1.values\n",
    "test_feat = np.asarray(test_data_1[:, :])\n",
    "\n",
    "#process only labels\n",
    "test_data_2 = test_data_read.values\n",
    "test_label = np.asarray(test_data_2[:, -1])\n",
    "test_label = test_label.astype('int')\n",
    "\n",
    "#perform data normalization\n",
    "test_scaler = preprocessing.StandardScaler().fit(test_feat)\n",
    "test_scaled_feat = test_scaler.transform(test_feat)"
   ]
  },
  {
   "cell_type": "markdown",
   "metadata": {
    "id": "XDC3FD2iZczm"
   },
   "source": [
    "**There are four Meta Heuristics model available.**\n",
    "\n",
    "> * **Particle Swarm Optimization** (use `pso` as short form)\n",
    "*   **Sine Cosine Algorithm** (use `sca` as short form)\n",
    "*   **Flower Pollination Algorithm** (use `fpa` as short form)\n",
    "*   **Differential Evolution** (use `de` as short form)\n",
    "\n",
    "\n",
    "\n",
    "\n",
    "\n",
    "\n",
    "\n",
    "\n"
   ]
  },
  {
   "cell_type": "markdown",
   "metadata": {
    "id": "JjnVbNcOm2du"
   },
   "source": [
    "**First model selection and feature selection**"
   ]
  },
  {
   "cell_type": "code",
   "execution_count": 8,
   "metadata": {
    "id": "lw6kBQS2RAoC"
   },
   "outputs": [],
   "source": [
    "#import the first MH model\n",
    "#@title # Select First Model\n",
    "import importlib\n",
    "model_selected = 'sca' #@param ['pso', 'sca', 'fpa', 'de'] {allow-input: true}\n",
    "var = importlib.import_module(model_selected)"
   ]
  },
  {
   "cell_type": "code",
   "execution_count": 9,
   "metadata": {
    "id": "W_BzKZ6K1wSx"
   },
   "outputs": [],
   "source": [
    "# split data into train & validation (80 -- 20)\n",
    "xtrain, xtest, ytrain, ytest = train_test_split(train_minmax_feat, train_label, test_size=0.2, stratify=train_label)\n",
    "fold = {'xt':xtrain, 'yt':ytrain, 'xv':xtest, 'yv':ytest}"
   ]
  },
  {
   "cell_type": "markdown",
   "metadata": {
    "id": "r_Xi6WOyfNCE"
   },
   "source": [
    "**Parameter List**\n",
    "\n",
    "> **PSO contains 3 extra parameters.**\n",
    "*   c1  = 2     # cognitive factor\n",
    "* c2  = 2         # social factor \n",
    "* w   = 0.9       # inertia weight\n",
    "\n",
    "> **SCA contains 1 extra parameter**\n",
    "* alpha  = 2    # constant\n",
    "\n",
    "> **FPA contains 1 extra parameter**\n",
    "* P  = 0.8      # switch probability\n",
    "\n",
    "> **CS contains 1 extra parameter**\n",
    "* Pa  = 0.25   # discovery rate\n",
    "\n",
    "> **DE contains 2 extra parameters**\n",
    "* CR = 0.9    # crossover rate\n",
    "* F  = 0.5    # constant factor\n"
   ]
  },
  {
   "cell_type": "code",
   "execution_count": 10,
   "metadata": {
    "id": "mT30kZ9o18rR"
   },
   "outputs": [],
   "source": [
    "# set parameters:: change the values and update dictionary fields in \"opts\"\n",
    "k    = 5     # k-value in KNN\n",
    "N    = 10    # number of particles\n",
    "T    = 50    # maximum number of iterations\n",
    "#w    = 0.9\n",
    "#c1   = 0.5\n",
    "#c2   = 0.5\n",
    "opts = {'k':k, 'fold':fold, 'N':N, 'T':T, 'alpha':2}"
   ]
  },
  {
   "cell_type": "code",
   "execution_count": 11,
   "metadata": {
    "id": "aUSPCinT2Ge8"
   },
   "outputs": [
    {
     "name": "stdout",
     "output_type": "stream",
     "text": [
      "Iteration: 1\n",
      "Best (SCA): 0.09992165105798223\n",
      "Iteration: 2\n",
      "Best (SCA): 0.09311819284159531\n",
      "Iteration: 3\n",
      "Best (SCA): 0.08705898168101256\n",
      "Iteration: 4\n",
      "Best (SCA): 0.07849885056534807\n",
      "Iteration: 5\n",
      "Best (SCA): 0.07849885056534807\n",
      "Iteration: 6\n",
      "Best (SCA): 0.0764771898665081\n",
      "Iteration: 7\n",
      "Best (SCA): 0.07578427019386272\n",
      "Iteration: 8\n",
      "Best (SCA): 0.06737812122767498\n",
      "Iteration: 9\n",
      "Best (SCA): 0.06737812122767498\n",
      "Iteration: 10\n",
      "Best (SCA): 0.06737812122767498\n",
      "Iteration: 11\n",
      "Best (SCA): 0.06737812122767498\n",
      "Iteration: 12\n",
      "Best (SCA): 0.06038924623429459\n",
      "Iteration: 13\n",
      "Best (SCA): 0.05926581474073557\n",
      "Iteration: 14\n",
      "Best (SCA): 0.05926581474073557\n",
      "Iteration: 15\n",
      "Best (SCA): 0.05926581474073557\n",
      "Iteration: 16\n",
      "Best (SCA): 0.05712995740370348\n",
      "Iteration: 17\n",
      "Best (SCA): 0.05712995740370348\n",
      "Iteration: 18\n",
      "Best (SCA): 0.05712995740370348\n",
      "Iteration: 19\n",
      "Best (SCA): 0.05712995740370348\n",
      "Iteration: 20\n",
      "Best (SCA): 0.05712995740370348\n",
      "Iteration: 21\n",
      "Best (SCA): 0.05712995740370348\n",
      "Iteration: 22\n",
      "Best (SCA): 0.05712995740370348\n",
      "Iteration: 23\n",
      "Best (SCA): 0.05712995740370348\n",
      "Iteration: 24\n",
      "Best (SCA): 0.05712995740370348\n",
      "Iteration: 25\n",
      "Best (SCA): 0.05712995740370348\n",
      "Iteration: 26\n",
      "Best (SCA): 0.05712995740370348\n",
      "Iteration: 27\n",
      "Best (SCA): 0.05712995740370348\n",
      "Iteration: 28\n",
      "Best (SCA): 0.05712995740370348\n",
      "Iteration: 29\n",
      "Best (SCA): 0.05712995740370348\n",
      "Iteration: 30\n",
      "Best (SCA): 0.05712995740370348\n",
      "Iteration: 31\n",
      "Best (SCA): 0.05712995740370348\n",
      "Iteration: 32\n",
      "Best (SCA): 0.05712995740370348\n",
      "Iteration: 33\n",
      "Best (SCA): 0.05712995740370348\n",
      "Iteration: 34\n",
      "Best (SCA): 0.05712995740370348\n",
      "Iteration: 35\n",
      "Best (SCA): 0.05712995740370348\n",
      "Iteration: 36\n",
      "Best (SCA): 0.05712995740370348\n",
      "Iteration: 37\n",
      "Best (SCA): 0.05712995740370348\n",
      "Iteration: 38\n",
      "Best (SCA): 0.05712995740370348\n",
      "Iteration: 39\n",
      "Best (SCA): 0.05712995740370348\n",
      "Iteration: 40\n",
      "Best (SCA): 0.05712995740370348\n",
      "Iteration: 41\n",
      "Best (SCA): 0.05712995740370348\n",
      "Iteration: 42\n",
      "Best (SCA): 0.05712995740370348\n",
      "Iteration: 43\n",
      "Best (SCA): 0.05712995740370348\n",
      "Iteration: 44\n",
      "Best (SCA): 0.05712995740370348\n",
      "Iteration: 45\n",
      "Best (SCA): 0.05712995740370348\n",
      "Iteration: 46\n",
      "Best (SCA): 0.05712995740370348\n",
      "Iteration: 47\n",
      "Best (SCA): 0.05712995740370348\n",
      "Iteration: 48\n",
      "Best (SCA): 0.05712995740370348\n",
      "Iteration: 49\n",
      "Best (SCA): 0.05712995740370348\n",
      "Iteration: 50\n",
      "Best (SCA): 0.05712995740370348\n"
     ]
    }
   ],
   "source": [
    "# perform feature selection (first model)\n",
    "fmdl = var.jfs(train_minmax_feat, train_label, opts)"
   ]
  },
  {
   "cell_type": "code",
   "execution_count": 12,
   "metadata": {
    "id": "2jQBvIOc2oYR"
   },
   "outputs": [
    {
     "name": "stdout",
     "output_type": "stream",
     "text": [
      "Selected Features: [ 6 23 32 37]\n",
      "Feature Size: 4\n"
     ]
    }
   ],
   "source": [
    "# selected features and number of selected features from first model\n",
    "sel_feat = fmdl['sf']\n",
    "print(\"Selected Features:\", sel_feat)\n",
    "num_feat = fmdl['nf']\n",
    "print(\"Feature Size:\", num_feat)"
   ]
  },
  {
   "cell_type": "code",
   "execution_count": 12,
   "metadata": {
    "id": "rPnxjIGc2vLa"
   },
   "outputs": [
    {
     "data": {
      "image/png": "[encoded data removed]",
      "text/plain": [
       "<Figure size 640x480 with 1 Axes>"
      ]
     },
     "metadata": {},
     "output_type": "display_data"
    }
   ],
   "source": [
    "# plot convergence\n",
    "curve   = fmdl['c']\n",
    "curve   = curve.reshape(np.size(curve,1))\n",
    "x       = np.arange(0, opts['T'], 1.0) + 1.0\n",
    "\n",
    "fig, ax = plt.subplots()\n",
    "ax.plot(x, curve, 'o-')\n",
    "ax.set_xlabel('Number of Iterations')\n",
    "ax.set_ylabel('Cost as Fitness')\n",
    "ax.set_title(model_selected)\n",
    "ax.grid()\n",
    "plt.show()"
   ]
  },
  {
   "cell_type": "markdown",
   "metadata": {
    "id": "YaBCXZmixhrL"
   },
   "source": [
    "**Second model selection and Feature Selection**"
   ]
  },
  {
   "cell_type": "code",
   "execution_count": 14,
   "metadata": {
    "id": "YUgPoq0I2yAc"
   },
   "outputs": [],
   "source": [
    "# data with selected features from first model\n",
    "num_train = np.size(xtrain, 0)\n",
    "x_train   = xtrain[:, sel_feat]\n",
    "y_train   = ytrain.reshape(num_train)"
   ]
  },
  {
   "cell_type": "code",
   "execution_count": 16,
   "metadata": {},
   "outputs": [
    {
     "data": {
      "text/plain": [
       "array([[ 0.72326799, -0.36521862, -0.70552864, -0.75307402],\n",
       "       [ 0.72326799, -0.38964738,  0.57229199,  0.54841361],\n",
       "       [-1.1419013 , -0.27727508, -0.70552864, -0.75307402],\n",
       "       ...,\n",
       "       [ 0.72326799, -0.17956004, -0.15789123, -0.28825701],\n",
       "       [ 0.72326799, -0.4287334 , -0.24916413, -0.38122041],\n",
       "       [ 0.72326799, -0.17956004, -0.52298283, -0.56714721]])"
      ]
     },
     "execution_count": 16,
     "metadata": {},
     "output_type": "execute_result"
    }
   ],
   "source": [
    "x_train"
   ]
  },
  {
   "cell_type": "code",
   "execution_count": 15,
   "metadata": {
    "id": "NSJAJxylBrJA",
    "jupyter": {
     "source_hidden": true
    }
   },
   "outputs": [],
   "source": [
    "#import the second MH model\n",
    "#@title # Select Second Model\n",
    "import importlib\n",
    "model2_selected = 'pso' #@param ['pso', 'sca', 'fpa', 'de'] {allow-input: true}\n",
    "var2 = importlib.import_module(model2_selected)"
   ]
  },
  {
   "cell_type": "code",
   "execution_count": 16,
   "metadata": {
    "id": "979lVM9EBvfw"
   },
   "outputs": [],
   "source": [
    "# split data with reduced feature set into train & validation (80 -- 20)\n",
    "fxtrain, fxtest, fytrain, fytest = train_test_split(x_train, y_train, test_size=0.2, stratify=y_train)\n",
    "fold = {'xt':fxtrain, 'yt':fytrain, 'xv':fxtest, 'yv':fytest}"
   ]
  },
  {
   "cell_type": "code",
   "execution_count": 17,
   "metadata": {
    "id": "iU95WfxRB3ix"
   },
   "outputs": [],
   "source": [
    "# set parameters:: change the values and update dictionary fields in \"smdl_opts\"\n",
    "k    = 5     # k-value in KNN\n",
    "N    = 10    # number of particles\n",
    "T    = 3     # maximum number of iterations\n",
    "w    = 0.9\n",
    "c1   = 0.5\n",
    "c2   = 1.5\n",
    "smdl_opts = {'k':k, 'fold':fold, 'N':N, 'T':T, 'c1':1.5, 'c2':2,'w':0.9}"
   ]
  },
  {
   "cell_type": "code",
   "execution_count": 18,
   "metadata": {
    "id": "bxk0Fk7Oxg1O",
    "scrolled": true
   },
   "outputs": [
    {
     "name": "stdout",
     "output_type": "stream",
     "text": [
      "Iteration: 1\n",
      "Best (PSO): 0.12102477276777752\n",
      "Iteration: 2\n",
      "Best (PSO): 0.12102477276777752\n",
      "Iteration: 3\n",
      "Best (PSO): 0.10555248618784531\n",
      "Iteration: 4\n",
      "Best (PSO): 0.10555248618784531\n",
      "Iteration: 5\n",
      "Best (PSO): 0.10555248618784531\n",
      "Iteration: 6\n",
      "Best (PSO): 0.10555248618784531\n",
      "Iteration: 7\n",
      "Best (PSO): 0.10555248618784531\n",
      "Iteration: 8\n",
      "Best (PSO): 0.10555248618784531\n",
      "Iteration: 9\n",
      "Best (PSO): 0.10555248618784531\n",
      "Iteration: 10\n",
      "Best (PSO): 0.10555248618784531\n",
      "Iteration: 11\n",
      "Best (PSO): 0.10555248618784531\n",
      "Iteration: 12\n",
      "Best (PSO): 0.10555248618784531\n",
      "Iteration: 13\n",
      "Best (PSO): 0.10555248618784531\n",
      "Iteration: 14\n",
      "Best (PSO): 0.10555248618784531\n",
      "Iteration: 15\n",
      "Best (PSO): 0.10555248618784531\n",
      "Iteration: 16\n",
      "Best (PSO): 0.10555248618784531\n",
      "Iteration: 17\n",
      "Best (PSO): 0.10555248618784531\n",
      "Iteration: 18\n",
      "Best (PSO): 0.10555248618784531\n",
      "Iteration: 19\n",
      "Best (PSO): 0.10555248618784531\n",
      "Iteration: 20\n",
      "Best (PSO): 0.10555248618784531\n",
      "Iteration: 21\n",
      "Best (PSO): 0.10555248618784531\n",
      "Iteration: 22\n",
      "Best (PSO): 0.10555248618784531\n",
      "Iteration: 23\n",
      "Best (PSO): 0.10555248618784531\n",
      "Iteration: 24\n",
      "Best (PSO): 0.10555248618784531\n",
      "Iteration: 25\n",
      "Best (PSO): 0.10555248618784531\n",
      "Iteration: 26\n",
      "Best (PSO): 0.10555248618784531\n",
      "Iteration: 27\n",
      "Best (PSO): 0.10555248618784531\n",
      "Iteration: 28\n",
      "Best (PSO): 0.10555248618784531\n",
      "Iteration: 29\n",
      "Best (PSO): 0.10555248618784531\n",
      "Iteration: 30\n",
      "Best (PSO): 0.10555248618784531\n",
      "Iteration: 31\n",
      "Best (PSO): 0.10555248618784531\n",
      "Iteration: 32\n",
      "Best (PSO): 0.10555248618784531\n",
      "Iteration: 33\n",
      "Best (PSO): 0.10555248618784531\n",
      "Iteration: 34\n",
      "Best (PSO): 0.10555248618784531\n",
      "Iteration: 35\n",
      "Best (PSO): 0.10555248618784531\n",
      "Iteration: 36\n",
      "Best (PSO): 0.10555248618784531\n",
      "Iteration: 37\n",
      "Best (PSO): 0.10555248618784531\n",
      "Iteration: 38\n",
      "Best (PSO): 0.10555248618784531\n",
      "Iteration: 39\n",
      "Best (PSO): 0.10555248618784531\n",
      "Iteration: 40\n",
      "Best (PSO): 0.10555248618784531\n",
      "Iteration: 41\n",
      "Best (PSO): 0.10555248618784531\n",
      "Iteration: 42\n",
      "Best (PSO): 0.10555248618784531\n",
      "Iteration: 43\n",
      "Best (PSO): 0.10555248618784531\n",
      "Iteration: 44\n",
      "Best (PSO): 0.10555248618784531\n",
      "Iteration: 45\n",
      "Best (PSO): 0.10555248618784531\n",
      "Iteration: 46\n",
      "Best (PSO): 0.10555248618784531\n",
      "Iteration: 47\n",
      "Best (PSO): 0.10555248618784531\n",
      "Iteration: 48\n",
      "Best (PSO): 0.10555248618784531\n",
      "Iteration: 49\n",
      "Best (PSO): 0.10555248618784531\n",
      "Iteration: 50\n",
      "Best (PSO): 0.10555248618784531\n"
     ]
    }
   ],
   "source": [
    "# perform feature selection (second model)\n",
    "smdl = var2.jfs(x_train, y_train, smdl_opts)"
   ]
  },
  {
   "cell_type": "code",
   "execution_count": 19,
   "metadata": {
    "id": "gKG20KOdocSY"
   },
   "outputs": [
    {
     "name": "stdout",
     "output_type": "stream",
     "text": [
      "Selected Features: [2]\n",
      "Feature Size: 1\n"
     ]
    }
   ],
   "source": [
    "# selected feature list and number of selected features from second model\n",
    "smdl_sel_feat = smdl['sf']\n",
    "print(\"Selected Features:\", smdl_sel_feat)\n",
    "smdl_num_feat = smdl['nf']\n",
    "print(\"Feature Size:\", smdl_num_feat)"
   ]
  },
  {
   "cell_type": "code",
   "execution_count": 20,
   "metadata": {
    "id": "dsPPQGKc-wIi"
   },
   "outputs": [
    {
     "data": {
      "image/png": "[encoded data removed]",
      "text/plain": [
       "<Figure size 640x480 with 1 Axes>"
      ]
     },
     "metadata": {},
     "output_type": "display_data"
    }
   ],
   "source": [
    "# plot convergence\n",
    "smdl_curve   = smdl['c']\n",
    "smdl_curve   = smdl_curve.reshape(np.size(smdl_curve,1))\n",
    "smdl_x       = np.arange(0, smdl_opts['T'], 1.0) + 1.0\n",
    "\n",
    "fig, ax = plt.subplots()\n",
    "ax.plot(smdl_x, smdl_curve, 'o-')\n",
    "ax.set_xlabel('Number of Iterations')\n",
    "ax.set_ylabel('Cost as Fitness')\n",
    "ax.set_title(model2_selected)\n",
    "ax.grid()\n",
    "plt.show()"
   ]
  },
  {
   "cell_type": "markdown",
   "metadata": {
    "id": "lgUXvdBbuj2q"
   },
   "source": [
    "**Classification results on Test DataSet**"
   ]
  },
  {
   "cell_type": "code",
   "execution_count": 40,
   "metadata": {
    "id": "Yo8I7x4Colwh"
   },
   "outputs": [],
   "source": [
    "# Load test data with finally selected features\n",
    "num_valid = np.size(test_scaled_feat, 0)\n",
    "x_valid   = test_scaled_feat[:,sel_feat]\n",
    "y_valid   = test_label.reshape(num_valid)"
   ]
  },
  {
   "cell_type": "code",
   "execution_count": 41,
   "metadata": {
    "id": "uhN9l_PTunUK"
   },
   "outputs": [
    {
     "name": "stdout",
     "output_type": "stream",
     "text": [
      "Accuracy: 0.8282 Precision: 0.8547 Recall: 0.8513 F-score: 0.8476 [J48]\n",
      "Time: 0.24645018577575684\n",
      "Accuracy: 0.8260 Precision: 0.8667 Recall: 0.8354 F-score: 0.8396 [Random Forest]\n",
      "Time: 11.412903785705566\n"
     ]
    }
   ],
   "source": [
    "#classification using J48, Random Forest and SVC using 5-fold cross validation with performance evaluation metrics\n",
    "from sklearn.metrics import make_scorer, accuracy_score, precision_score, recall_score, f1_score\n",
    "from sklearn.tree import DecisionTreeClassifier\n",
    "from sklearn.svm import SVC\n",
    "from sklearn.ensemble import RandomForestClassifier\n",
    "from sklearn.model_selection import cross_validate\n",
    "import time\n",
    "\n",
    "clf1 = DecisionTreeClassifier(criterion = \"entropy\", random_state = 42, max_depth=3, min_samples_leaf=5)\n",
    "clf2 = RandomForestClassifier(n_estimators=50, random_state=42)\n",
    "clf3 = SVC(kernel='linear', probability=True)\n",
    "\n",
    "scoring = {'accuracy' : make_scorer(accuracy_score), \n",
    "           'precision' : make_scorer(precision_score),\n",
    "           'recall' : make_scorer(recall_score), \n",
    "           'f1_score' : make_scorer(f1_score)}\n",
    "\n",
    "for clf, label in zip([clf1, clf2], ['J48', 'Random Forest']):\n",
    "  start_time = time.time()\n",
    "  scores = cross_validate(clf, x_valid, y_valid, scoring=scoring, cv=5)\n",
    "  print(\"Accuracy: %0.4f Precision: %0.4f Recall: %0.4f F-score: %0.4f [%s]\" % (scores['test_accuracy'].mean(), scores['test_precision'].mean(), scores['test_recall'].mean(), scores['test_f1_score'].mean(), label))\n",
    "  end_time = time.time()\n",
    "  exec_time = end_time - start_time\n",
    "  print(\"Time:\", exec_time)"
   ]
  },
  {
   "cell_type": "markdown",
   "metadata": {},
   "source": [
    "# flower pollination algorithm"
   ]
  },
  {
   "cell_type": "code",
   "execution_count": 28,
   "metadata": {},
   "outputs": [],
   "source": [
    "import importlib\n",
    "model2_selected = 'fpa' #@param ['pso', 'sca', 'fpa', 'de'] {allow-input: true}\n",
    "var2 = importlib.import_module(model2_selected)"
   ]
  },
  {
   "cell_type": "code",
   "execution_count": 29,
   "metadata": {},
   "outputs": [],
   "source": [
    "# split data with reduced feature set into train & validation (80 -- 20)\n",
    "fxtrain, fxtest, fytrain, fytest = train_test_split(x_train, y_train, test_size=0.2, stratify=y_train)\n",
    "fold = {'xt':fxtrain, 'yt':fytrain, 'xv':fxtest, 'yv':fytest}"
   ]
  },
  {
   "cell_type": "code",
   "execution_count": 34,
   "metadata": {},
   "outputs": [],
   "source": [
    "# set parameters:: change the values and update dictionary fields in \"smdl_opts\"\n",
    "k    = 9     # k-value in KNN\n",
    "N    = 10    # number of particles\n",
    "T    = 7     # maximum number of iterations\n",
    "w    = 0.9\n",
    "beta   = 1.4    # levy component\n",
    "P      = 0.2  # switch probability\n",
    "smdl_opts = {'k':k, 'fold':fold, 'N':N, 'T':T, 'c1':1.5, 'c2':2,'w':0.9}"
   ]
  },
  {
   "cell_type": "code",
   "execution_count": 35,
   "metadata": {},
   "outputs": [
    {
     "name": "stdout",
     "output_type": "stream",
     "text": [
      "Generation: 1\n",
      "Best (FPA): 0.10953038674033147\n",
      "Generation: 2\n",
      "Best (FPA): 0.10953038674033147\n",
      "Generation: 3\n",
      "Best (FPA): 0.10953038674033147\n",
      "Generation: 4\n",
      "Best (FPA): 0.10953038674033147\n",
      "Generation: 5\n",
      "Best (FPA): 0.10953038674033147\n",
      "Generation: 6\n",
      "Best (FPA): 0.10953038674033147\n",
      "Generation: 7\n",
      "Best (FPA): 0.10953038674033147\n"
     ]
    }
   ],
   "source": [
    "smdl = var2.jfs(x_train, y_train, smdl_opts)"
   ]
  },
  {
   "cell_type": "code",
   "execution_count": 36,
   "metadata": {},
   "outputs": [
    {
     "name": "stdout",
     "output_type": "stream",
     "text": [
      "Selected Features: [2]\n",
      "Feature Size: 1\n"
     ]
    }
   ],
   "source": [
    "# selected feature list and number of selected features from second model\n",
    "smdl_sel_feat = smdl['sf']\n",
    "print(\"Selected Features:\", smdl_sel_feat)\n",
    "smdl_num_feat = smdl['nf']\n",
    "print(\"Feature Size:\", smdl_num_feat)"
   ]
  },
  {
   "cell_type": "code",
   "execution_count": 37,
   "metadata": {},
   "outputs": [
    {
     "data": {
      "image/png": "[encoded data removed]",
      "text/plain": [
       "<Figure size 640x480 with 1 Axes>"
      ]
     },
     "metadata": {},
     "output_type": "display_data"
    }
   ],
   "source": [
    "# plot convergence\n",
    "smdl_curve   = smdl['c']\n",
    "smdl_curve   = smdl_curve.reshape(np.size(smdl_curve,1))\n",
    "smdl_x       = np.arange(0, smdl_opts['T'], 1.0) + 1.0\n",
    "\n",
    "fig, ax = plt.subplots()\n",
    "ax.plot(smdl_x, smdl_curve, 'o-')\n",
    "ax.set_xlabel('Number of Iterations')\n",
    "ax.set_ylabel('Cost as Fitness')\n",
    "ax.set_title(model2_selected)\n",
    "ax.grid()\n",
    "plt.show()"
   ]
  },
  {
   "cell_type": "code",
   "execution_count": 38,
   "metadata": {},
   "outputs": [],
   "source": [
    "# Load test data with finally selected features\n",
    "num_valid = np.size(test_scaled_feat, 0)\n",
    "x_valid   = test_scaled_feat[:, smdl_sel_feat]\n",
    "y_valid   = test_label.reshape(num_valid)"
   ]
  },
  {
   "cell_type": "code",
   "execution_count": 39,
   "metadata": {},
   "outputs": [
    {
     "name": "stdout",
     "output_type": "stream",
     "text": [
      "Accuracy: 0.7363 Precision: 0.8394 Recall: 0.6577 F-score: 0.7345 [J48]\n",
      "Time: 0.10328006744384766\n",
      "Accuracy: 0.7422 Precision: 0.7834 Recall: 0.7753 F-score: 0.7714 [Random Forest]\n",
      "Time: 2.5412867069244385\n"
     ]
    }
   ],
   "source": [
    "#classification using J48, Random Forest and SVC using 5-fold cross validation with performance evaluation metrics\n",
    "from sklearn.metrics import make_scorer, accuracy_score, precision_score, recall_score, f1_score\n",
    "from sklearn.tree import DecisionTreeClassifier\n",
    "from sklearn.svm import SVC\n",
    "from sklearn.ensemble import RandomForestClassifier\n",
    "from sklearn.model_selection import cross_validate\n",
    "import time\n",
    "\n",
    "clf1 = DecisionTreeClassifier(criterion = \"entropy\", random_state = 42, max_depth=3, min_samples_leaf=5)\n",
    "clf2 = RandomForestClassifier(n_estimators=50, random_state=42)\n",
    "clf3 = SVC(kernel='linear', probability=True)\n",
    "\n",
    "scoring = {'accuracy' : make_scorer(accuracy_score), \n",
    "           'precision' : make_scorer(precision_score),\n",
    "           'recall' : make_scorer(recall_score), \n",
    "           'f1_score' : make_scorer(f1_score)}\n",
    "\n",
    "for clf, label in zip([clf1, clf2], ['J48', 'Random Forest']):\n",
    "  start_time = time.time()\n",
    "  scores = cross_validate(clf, x_valid, y_valid, scoring=scoring, cv=5)\n",
    "  print(\"Accuracy: %0.4f Precision: %0.4f Recall: %0.4f F-score: %0.4f [%s]\" % (scores['test_accuracy'].mean(), scores['test_precision'].mean(), scores['test_recall'].mean(), scores['test_f1_score'].mean(), label))\n",
    "  end_time = time.time()\n",
    "  exec_time = end_time - start_time\n",
    "  print(\"Time:\", exec_time)"
   ]
  },
  {
   "cell_type": "markdown",
   "metadata": {},
   "source": [
    "# Lstm autoencoder"
   ]
  },
  {
   "cell_type": "code",
   "execution_count": 13,
   "metadata": {},
   "outputs": [],
   "source": [
    "def autoencoder_model(X):\n",
    "    inputs = Input(shape=(X.shape[1], X.shape[2]))\n",
    "    L1 = LSTM(16, activation='relu', return_sequences=True, \n",
    "              kernel_regularizer=regularizers.l2(0.00))(inputs)\n",
    "    L2 = LSTM(4, activation='relu', return_sequences=False)(L1)\n",
    "    L3 = RepeatVector(X.shape[1])(L2)\n",
    "    L4 = LSTM(4, activation='relu', return_sequences=True)(L3)\n",
    "    L5 = LSTM(16, activation='relu', return_sequences=True)(L4)\n",
    "    output = TimeDistributed(Dense(X.shape[2]))(L5)    \n",
    "    model = Model(inputs=inputs, outputs=output)\n",
    "    return model"
   ]
  },
  {
   "cell_type": "code",
   "execution_count": null,
   "metadata": {},
   "outputs": [],
   "source": [
    "model = autoencoder_model(x_train)\n",
    "model.compile(optimizer='adam', loss='mae')\n",
    "model.summary()"
   ]
  },
  {
   "cell_type": "code",
   "execution_count": null,
   "metadata": {},
   "outputs": [],
   "source": [
    "nb_epochs = 100\n",
    "batch_size = 10\n",
    "history = model.fit(X_train, X_train, epochs=nb_epochs, batch_size=batch_size,\n",
    "                    validation_split=0.05).history"
   ]
  },
  {
   "cell_type": "code",
   "execution_count": null,
   "metadata": {},
   "outputs": [],
   "source": [
    "# plot the training losses\n",
    "fig, ax = plt.subplots(figsize=(14, 6), dpi=80)\n",
    "ax.plot(history['loss'], 'b', label='Train', linewidth=2)\n",
    "ax.plot(history['val_loss'], 'r', label='Validation', linewidth=2)\n",
    "ax.set_title('Model loss', fontsize=16)\n",
    "ax.set_ylabel('Loss (mae)')\n",
    "ax.set_xlabel('Epoch')\n",
    "ax.legend(loc='upper right')\n",
    "plt.show()"
   ]
  }
 ],
 "metadata": {
  "colab": {
   "collapsed_sections": [],
   "name": "Feature Selection Notebook.ipynb",
   "provenance": []
  },
  "kernelspec": {
   "display_name": "Python 3 (ipykernel)",
   "language": "python",
   "name": "python3"
  },
  "language_info": {
   "codemirror_mode": {
    "name": "ipython",
    "version": 3
   },
   "file_extension": ".py",
   "mimetype": "text/x-python",
   "name": "python",
   "nbconvert_exporter": "python",
   "pygments_lexer": "ipython3",
   "version": "3.10.0"
  }
 },
 "nbformat": 4,
 "nbformat_minor": 4
}
